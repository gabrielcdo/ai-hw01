{
 "cells": [
  {
   "cell_type": "code",
   "execution_count": 19,
   "metadata": {},
   "outputs": [
    {
     "name": "stdout",
     "output_type": "stream",
     "text": [
      "The autoreload extension is already loaded. To reload it, use:\n",
      "  %reload_ext autoreload\n",
      "The jupyter_black extension is already loaded. To reload it, use:\n",
      "  %reload_ext jupyter_black\n"
     ]
    }
   ],
   "source": [
    "%load_ext autoreload\n",
    "%autoreload 2\n",
    "%load_ext jupyter_black"
   ]
  },
  {
   "cell_type": "code",
   "execution_count": 17,
   "metadata": {},
   "outputs": [],
   "source": [
    "# create 3 folders for in data/clear_data\n",
    "# fila, adidas, social\n",
    "# and move ../data/raw_data/"
   ]
  },
  {
   "cell_type": "markdown",
   "metadata": {},
   "source": [
    "### Data Preparation"
   ]
  },
  {
   "cell_type": "code",
   "execution_count": 22,
   "metadata": {},
   "outputs": [
    {
     "name": "stdout",
     "output_type": "stream",
     "text": [
      "Number of training samples: 226\n",
      "Number of validation samples: 28\n",
      "Number of testing samples: 29\n",
      "Image shape: (224, 224, 3)\n",
      "Number of classes: 3\n"
     ]
    }
   ],
   "source": [
    "import os\n",
    "import cv2\n",
    "import numpy as np\n",
    "from sklearn.model_selection import train_test_split\n",
    "from sklearn.preprocessing import LabelEncoder\n",
    "from tensorflow.keras.utils import to_categorical\n",
    "\n",
    "\n",
    "# Function to load and preprocess images from a directory\n",
    "def load_and_preprocess_images(directory):\n",
    "    image_data = []\n",
    "    labels = []\n",
    "\n",
    "    image_files = [f for f in os.listdir(directory) if f.endswith(\".jpg\")]\n",
    "\n",
    "    for image_file in image_files:\n",
    "        img_path = os.path.join(directory, image_file)\n",
    "        img = cv2.imread(img_path)\n",
    "        img = cv2.cvtColor(img, cv2.COLOR_BGR2RGB)\n",
    "        img = cv2.resize(\n",
    "            img, (224, 224)\n",
    "        )  # Resize the images to a common size (adjust as needed)\n",
    "        img = img / 255.0  # Normalize pixel values to be between 0 and 1\n",
    "        label = directory.split(\"/\")[-1]  # Extract the label from the directory name\n",
    "\n",
    "        image_data.append(img)\n",
    "        labels.append(label)\n",
    "\n",
    "    return np.array(image_data), np.array(labels)\n",
    "\n",
    "\n",
    "# Specify the directories\n",
    "adidas_dir = \"../data/clear_data/adidas\"\n",
    "fila_dir = \"../data/clear_data/fila\"\n",
    "social_dir = \"../data/clear_data/social\"\n",
    "\n",
    "# Load and preprocess images from each category\n",
    "adidas_dir_data, adidas_dir_labels = load_and_preprocess_images(adidas_dir)\n",
    "fila_dir_data, fila_dir_labels = load_and_preprocess_images(fila_dir)\n",
    "social_dir_data, social_dir_labels = load_and_preprocess_images(social_dir)\n",
    "\n",
    "# Combine data from all categories\n",
    "X = np.concatenate([adidas_dir_data, fila_dir_data, social_dir_data], axis=0)\n",
    "y = np.concatenate([adidas_dir_labels, fila_dir_labels, social_dir_labels], axis=0)\n",
    "\n",
    "# Encode labels\n",
    "label_encoder = LabelEncoder()\n",
    "y_encoded = label_encoder.fit_transform(y)\n",
    "\n",
    "# Convert labels to one-hot encoding\n",
    "y_one_hot = to_categorical(y_encoded)\n",
    "\n",
    "# Split the data into training, testing, and validation sets\n",
    "X_train, X_temp, y_train, y_temp = train_test_split(\n",
    "    X, y_one_hot, test_size=0.2, random_state=42, stratify=y_one_hot\n",
    ")\n",
    "X_valid, X_test, y_valid, y_test = train_test_split(\n",
    "    X_temp, y_temp, test_size=0.5, random_state=42, stratify=y_temp\n",
    ")\n",
    "\n",
    "# Save the processed data to a file (optional)\n",
    "np.savez(\n",
    "    \"../data/splitted_data/preprocessed_data.npz\",\n",
    "    X_train=X_train,\n",
    "    X_valid=X_valid,\n",
    "    X_test=X_test,\n",
    "    y_train=y_train,\n",
    "    y_valid=y_valid,\n",
    "    y_test=y_test,\n",
    ")\n",
    "\n",
    "# Display some information about the dataset\n",
    "print(\"Number of training samples:\", X_train.shape[0])\n",
    "print(\"Number of validation samples:\", X_valid.shape[0])\n",
    "print(\"Number of testing samples:\", X_test.shape[0])\n",
    "print(\"Image shape:\", X_train.shape[1:])\n",
    "print(\"Number of classes:\", len(label_encoder.classes_))"
   ]
  },
  {
   "cell_type": "code",
   "execution_count": null,
   "metadata": {},
   "outputs": [],
   "source": []
  }
 ],
 "metadata": {
  "kernelspec": {
   "display_name": "venv",
   "language": "python",
   "name": "python3"
  },
  "language_info": {
   "codemirror_mode": {
    "name": "ipython",
    "version": 3
   },
   "file_extension": ".py",
   "mimetype": "text/x-python",
   "name": "python",
   "nbconvert_exporter": "python",
   "pygments_lexer": "ipython3",
   "version": "3.10.12"
  }
 },
 "nbformat": 4,
 "nbformat_minor": 2
}
